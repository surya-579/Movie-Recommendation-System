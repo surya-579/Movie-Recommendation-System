{
  "nbformat": 4,
  "nbformat_minor": 0,
  "metadata": {
    "colab": {
      "provenance": [],
      "gpuType": "T4",
      "authorship_tag": "ABX9TyMnpQGpscqinpv+W6m6StkS"
    },
    "kernelspec": {
      "name": "python3",
      "display_name": "Python 3"
    },
    "language_info": {
      "name": "python"
    },
    "accelerator": "GPU"
  },
  "cells": [
    {
      "cell_type": "markdown",
      "source": [
        "# **Movie Recommendation System using Deep Boltzman Machines**\n",
        "\n",
        "**Objective**: To Design a deep boltzmann machine architecture for the movie recommendation system where top 5 movies are to be recommended for a specific user."
      ],
      "metadata": {
        "id": "1eXlbMu8VrUQ"
      }
    },
    {
      "cell_type": "markdown",
      "source": [
        "**Importing Libraries**"
      ],
      "metadata": {
        "id": "wSTuyfwdWC91"
      }
    },
    {
      "cell_type": "code",
      "execution_count": null,
      "metadata": {
        "id": "F5jGBCAMVffu"
      },
      "outputs": [],
      "source": [
        "import numpy as np\n",
        "import tensorflow as tf\n",
        "from tensorflow.keras.layers import Input, Dense\n",
        "from tensorflow.keras.models import Model"
      ]
    },
    {
      "cell_type": "markdown",
      "source": [
        "**Loading and processing dataset**"
      ],
      "metadata": {
        "id": "f7tqfT3sWy32"
      }
    },
    {
      "cell_type": "code",
      "source": [
        "ratings = tf.keras.utils.get_file('ratings.csv', 'http://files.grouplens.org/datasets/movielens/ml-100k/u.data')\n",
        "movies = tf.keras.utils.get_file('movies.csv', 'http://files.grouplens.org/datasets/movielens/ml-100k/u.item')\n",
        "\n",
        "ratings_data = np.loadtxt(ratings, delimiter='\\t')\n",
        "movies_data = [line.decode('ISO-8859-1').split('|') for line in open(movies, 'rb').readlines()]\n",
        "\n",
        "num_users = int(max(ratings_data[:, 0]))\n",
        "num_movies = int(max(ratings_data[:, 1]))\n",
        "\n",
        "user_item_matrix = np.zeros((num_users, num_movies))\n",
        "for line in ratings_data:\n",
        "    user_item_matrix[int(line[0]) - 1][int(line[1]) - 1] = line[2]"
      ],
      "metadata": {
        "colab": {
          "base_uri": "https://localhost:8080/"
        },
        "id": "wrEPm05lW3al",
        "outputId": "a9b8e2ed-ce61-4cd9-f55d-f6d503619e59"
      },
      "execution_count": null,
      "outputs": [
        {
          "output_type": "stream",
          "name": "stdout",
          "text": [
            "Downloading data from http://files.grouplens.org/datasets/movielens/ml-100k/u.data\n",
            "1979173/1979173 [==============================] - 1s 1us/step\n",
            "Downloading data from http://files.grouplens.org/datasets/movielens/ml-100k/u.item\n",
            "236344/236344 [==============================] - 1s 3us/step\n"
          ]
        }
      ]
    },
    {
      "cell_type": "markdown",
      "source": [
        "**Splitting Train, Test sets and Training the model**"
      ],
      "metadata": {
        "id": "66IiFddhXQ1g"
      }
    },
    {
      "cell_type": "code",
      "source": [
        "train_data = user_item_matrix[:600, :]\n",
        "val_data = user_item_matrix[600:800, :]\n",
        "test_data = user_item_matrix[800:, :]\n",
        "\n",
        "visible = Input(shape=(num_movies,))\n",
        "hidden1 = Dense(1024, activation='sigmoid')(visible)\n",
        "hidden2 = Dense(512, activation='sigmoid')(hidden1)\n",
        "hidden3 = Dense(256, activation='sigmoid')(hidden2)\n",
        "visible_reconstructed = Dense(num_movies, activation='sigmoid')(hidden3)\n",
        "rbm = Model(inputs=visible, outputs=visible_reconstructed)\n",
        "\n",
        "rbm.compile(optimizer='adam', loss='mean_squared_error')\n",
        "history = rbm.fit(train_data, train_data, epochs=150, batch_size=64, validation_data =(val_data, val_data))"
      ],
      "metadata": {
        "colab": {
          "base_uri": "https://localhost:8080/"
        },
        "id": "zkih2MCyXV0K",
        "outputId": "6ae3dbb2-3c2e-4f18-a2f6-d93a97419af9"
      },
      "execution_count": null,
      "outputs": [
        {
          "output_type": "stream",
          "name": "stdout",
          "text": [
            "Epoch 1/150\n",
            "10/10 [==============================] - 1s 25ms/step - loss: 0.8432 - val_loss: 0.6395\n",
            "Epoch 2/150\n",
            "10/10 [==============================] - 0s 6ms/step - loss: 0.7595 - val_loss: 0.6325\n",
            "Epoch 3/150\n",
            "10/10 [==============================] - 0s 7ms/step - loss: 0.7558 - val_loss: 0.6322\n",
            "Epoch 4/150\n",
            "10/10 [==============================] - 0s 8ms/step - loss: 0.7549 - val_loss: 0.6306\n",
            "Epoch 5/150\n",
            "10/10 [==============================] - 0s 8ms/step - loss: 0.7545 - val_loss: 0.6302\n",
            "Epoch 6/150\n",
            "10/10 [==============================] - 0s 8ms/step - loss: 0.7540 - val_loss: 0.6316\n",
            "Epoch 7/150\n",
            "10/10 [==============================] - 0s 8ms/step - loss: 0.7540 - val_loss: 0.6310\n",
            "Epoch 8/150\n",
            "10/10 [==============================] - 0s 7ms/step - loss: 0.7537 - val_loss: 0.6291\n",
            "Epoch 9/150\n",
            "10/10 [==============================] - 0s 7ms/step - loss: 0.7525 - val_loss: 0.6289\n",
            "Epoch 10/150\n",
            "10/10 [==============================] - 0s 6ms/step - loss: 0.7506 - val_loss: 0.6260\n",
            "Epoch 11/150\n",
            "10/10 [==============================] - 0s 7ms/step - loss: 0.7452 - val_loss: 0.6197\n",
            "Epoch 12/150\n",
            "10/10 [==============================] - 0s 8ms/step - loss: 0.7389 - val_loss: 0.6140\n",
            "Epoch 13/150\n",
            "10/10 [==============================] - 0s 8ms/step - loss: 0.7322 - val_loss: 0.6095\n",
            "Epoch 14/150\n",
            "10/10 [==============================] - 0s 8ms/step - loss: 0.7259 - val_loss: 0.6048\n",
            "Epoch 15/150\n",
            "10/10 [==============================] - 0s 6ms/step - loss: 0.7212 - val_loss: 0.6015\n",
            "Epoch 16/150\n",
            "10/10 [==============================] - 0s 8ms/step - loss: 0.7172 - val_loss: 0.5991\n",
            "Epoch 17/150\n",
            "10/10 [==============================] - 0s 6ms/step - loss: 0.7135 - val_loss: 0.5958\n",
            "Epoch 18/150\n",
            "10/10 [==============================] - 0s 7ms/step - loss: 0.7103 - val_loss: 0.5932\n",
            "Epoch 19/150\n",
            "10/10 [==============================] - 0s 9ms/step - loss: 0.7076 - val_loss: 0.5913\n",
            "Epoch 20/150\n",
            "10/10 [==============================] - 0s 6ms/step - loss: 0.7054 - val_loss: 0.5896\n",
            "Epoch 21/150\n",
            "10/10 [==============================] - 0s 7ms/step - loss: 0.7035 - val_loss: 0.5884\n",
            "Epoch 22/150\n",
            "10/10 [==============================] - 0s 11ms/step - loss: 0.7018 - val_loss: 0.5869\n",
            "Epoch 23/150\n",
            "10/10 [==============================] - 0s 9ms/step - loss: 0.7002 - val_loss: 0.5856\n",
            "Epoch 24/150\n",
            "10/10 [==============================] - 0s 10ms/step - loss: 0.6989 - val_loss: 0.5846\n",
            "Epoch 25/150\n",
            "10/10 [==============================] - 0s 11ms/step - loss: 0.6975 - val_loss: 0.5836\n",
            "Epoch 26/150\n",
            "10/10 [==============================] - 0s 10ms/step - loss: 0.6964 - val_loss: 0.5825\n",
            "Epoch 27/150\n",
            "10/10 [==============================] - 0s 9ms/step - loss: 0.6953 - val_loss: 0.5819\n",
            "Epoch 28/150\n",
            "10/10 [==============================] - 0s 8ms/step - loss: 0.6942 - val_loss: 0.5807\n",
            "Epoch 29/150\n",
            "10/10 [==============================] - 0s 9ms/step - loss: 0.6932 - val_loss: 0.5800\n",
            "Epoch 30/150\n",
            "10/10 [==============================] - 0s 11ms/step - loss: 0.6922 - val_loss: 0.5793\n",
            "Epoch 31/150\n",
            "10/10 [==============================] - 0s 9ms/step - loss: 0.6915 - val_loss: 0.5785\n",
            "Epoch 32/150\n",
            "10/10 [==============================] - 0s 9ms/step - loss: 0.6908 - val_loss: 0.5780\n",
            "Epoch 33/150\n",
            "10/10 [==============================] - 0s 9ms/step - loss: 0.6902 - val_loss: 0.5776\n",
            "Epoch 34/150\n",
            "10/10 [==============================] - 0s 11ms/step - loss: 0.6896 - val_loss: 0.5770\n",
            "Epoch 35/150\n",
            "10/10 [==============================] - 0s 11ms/step - loss: 0.6891 - val_loss: 0.5763\n",
            "Epoch 36/150\n",
            "10/10 [==============================] - 0s 10ms/step - loss: 0.6886 - val_loss: 0.5763\n",
            "Epoch 37/150\n",
            "10/10 [==============================] - 0s 10ms/step - loss: 0.6880 - val_loss: 0.5760\n",
            "Epoch 38/150\n",
            "10/10 [==============================] - 0s 10ms/step - loss: 0.6875 - val_loss: 0.5752\n",
            "Epoch 39/150\n",
            "10/10 [==============================] - 0s 11ms/step - loss: 0.6869 - val_loss: 0.5749\n",
            "Epoch 40/150\n",
            "10/10 [==============================] - 0s 12ms/step - loss: 0.6865 - val_loss: 0.5745\n",
            "Epoch 41/150\n",
            "10/10 [==============================] - 0s 9ms/step - loss: 0.6859 - val_loss: 0.5740\n",
            "Epoch 42/150\n",
            "10/10 [==============================] - 0s 7ms/step - loss: 0.6854 - val_loss: 0.5735\n",
            "Epoch 43/150\n",
            "10/10 [==============================] - 0s 8ms/step - loss: 0.6849 - val_loss: 0.5730\n",
            "Epoch 44/150\n",
            "10/10 [==============================] - 0s 8ms/step - loss: 0.6843 - val_loss: 0.5725\n",
            "Epoch 45/150\n",
            "10/10 [==============================] - 0s 7ms/step - loss: 0.6837 - val_loss: 0.5720\n",
            "Epoch 46/150\n",
            "10/10 [==============================] - 0s 6ms/step - loss: 0.6831 - val_loss: 0.5713\n",
            "Epoch 47/150\n",
            "10/10 [==============================] - 0s 6ms/step - loss: 0.6822 - val_loss: 0.5706\n",
            "Epoch 48/150\n",
            "10/10 [==============================] - 0s 8ms/step - loss: 0.6813 - val_loss: 0.5699\n",
            "Epoch 49/150\n",
            "10/10 [==============================] - 0s 8ms/step - loss: 0.6803 - val_loss: 0.5685\n",
            "Epoch 50/150\n",
            "10/10 [==============================] - 0s 6ms/step - loss: 0.6794 - val_loss: 0.5682\n",
            "Epoch 51/150\n",
            "10/10 [==============================] - 0s 7ms/step - loss: 0.6785 - val_loss: 0.5669\n",
            "Epoch 52/150\n",
            "10/10 [==============================] - 0s 8ms/step - loss: 0.6773 - val_loss: 0.5661\n",
            "Epoch 53/150\n",
            "10/10 [==============================] - 0s 7ms/step - loss: 0.6761 - val_loss: 0.5653\n",
            "Epoch 54/150\n",
            "10/10 [==============================] - 0s 8ms/step - loss: 0.6748 - val_loss: 0.5644\n",
            "Epoch 55/150\n",
            "10/10 [==============================] - 0s 8ms/step - loss: 0.6737 - val_loss: 0.5634\n",
            "Epoch 56/150\n",
            "10/10 [==============================] - 0s 7ms/step - loss: 0.6725 - val_loss: 0.5630\n",
            "Epoch 57/150\n",
            "10/10 [==============================] - 0s 8ms/step - loss: 0.6716 - val_loss: 0.5624\n",
            "Epoch 58/150\n",
            "10/10 [==============================] - 0s 8ms/step - loss: 0.6706 - val_loss: 0.5615\n",
            "Epoch 59/150\n",
            "10/10 [==============================] - 0s 7ms/step - loss: 0.6697 - val_loss: 0.5609\n",
            "Epoch 60/150\n",
            "10/10 [==============================] - 0s 6ms/step - loss: 0.6688 - val_loss: 0.5603\n",
            "Epoch 61/150\n",
            "10/10 [==============================] - 0s 7ms/step - loss: 0.6680 - val_loss: 0.5598\n",
            "Epoch 62/150\n",
            "10/10 [==============================] - 0s 8ms/step - loss: 0.6673 - val_loss: 0.5592\n",
            "Epoch 63/150\n",
            "10/10 [==============================] - 0s 7ms/step - loss: 0.6666 - val_loss: 0.5585\n",
            "Epoch 64/150\n",
            "10/10 [==============================] - 0s 8ms/step - loss: 0.6660 - val_loss: 0.5580\n",
            "Epoch 65/150\n",
            "10/10 [==============================] - 0s 8ms/step - loss: 0.6654 - val_loss: 0.5577\n",
            "Epoch 66/150\n",
            "10/10 [==============================] - 0s 8ms/step - loss: 0.6648 - val_loss: 0.5572\n",
            "Epoch 67/150\n",
            "10/10 [==============================] - 0s 8ms/step - loss: 0.6642 - val_loss: 0.5566\n",
            "Epoch 68/150\n",
            "10/10 [==============================] - 0s 7ms/step - loss: 0.6636 - val_loss: 0.5562\n",
            "Epoch 69/150\n",
            "10/10 [==============================] - 0s 8ms/step - loss: 0.6629 - val_loss: 0.5560\n",
            "Epoch 70/150\n",
            "10/10 [==============================] - 0s 7ms/step - loss: 0.6623 - val_loss: 0.5553\n",
            "Epoch 71/150\n",
            "10/10 [==============================] - 0s 6ms/step - loss: 0.6617 - val_loss: 0.5548\n",
            "Epoch 72/150\n",
            "10/10 [==============================] - 0s 9ms/step - loss: 0.6611 - val_loss: 0.5544\n",
            "Epoch 73/150\n",
            "10/10 [==============================] - 0s 7ms/step - loss: 0.6605 - val_loss: 0.5539\n",
            "Epoch 74/150\n",
            "10/10 [==============================] - 0s 8ms/step - loss: 0.6599 - val_loss: 0.5538\n",
            "Epoch 75/150\n",
            "10/10 [==============================] - 0s 7ms/step - loss: 0.6593 - val_loss: 0.5535\n",
            "Epoch 76/150\n",
            "10/10 [==============================] - 0s 6ms/step - loss: 0.6588 - val_loss: 0.5530\n",
            "Epoch 77/150\n",
            "10/10 [==============================] - 0s 8ms/step - loss: 0.6581 - val_loss: 0.5524\n",
            "Epoch 78/150\n",
            "10/10 [==============================] - 0s 8ms/step - loss: 0.6573 - val_loss: 0.5519\n",
            "Epoch 79/150\n",
            "10/10 [==============================] - 0s 7ms/step - loss: 0.6565 - val_loss: 0.5514\n",
            "Epoch 80/150\n",
            "10/10 [==============================] - 0s 8ms/step - loss: 0.6557 - val_loss: 0.5510\n",
            "Epoch 81/150\n",
            "10/10 [==============================] - 0s 8ms/step - loss: 0.6548 - val_loss: 0.5504\n",
            "Epoch 82/150\n",
            "10/10 [==============================] - 0s 6ms/step - loss: 0.6539 - val_loss: 0.5497\n",
            "Epoch 83/150\n",
            "10/10 [==============================] - 0s 8ms/step - loss: 0.6530 - val_loss: 0.5489\n",
            "Epoch 84/150\n",
            "10/10 [==============================] - 0s 7ms/step - loss: 0.6520 - val_loss: 0.5483\n",
            "Epoch 85/150\n",
            "10/10 [==============================] - 0s 8ms/step - loss: 0.6512 - val_loss: 0.5477\n",
            "Epoch 86/150\n",
            "10/10 [==============================] - 0s 6ms/step - loss: 0.6503 - val_loss: 0.5471\n",
            "Epoch 87/150\n",
            "10/10 [==============================] - 0s 8ms/step - loss: 0.6495 - val_loss: 0.5468\n",
            "Epoch 88/150\n",
            "10/10 [==============================] - 0s 6ms/step - loss: 0.6488 - val_loss: 0.5463\n",
            "Epoch 89/150\n",
            "10/10 [==============================] - 0s 7ms/step - loss: 0.6480 - val_loss: 0.5459\n",
            "Epoch 90/150\n",
            "10/10 [==============================] - 0s 7ms/step - loss: 0.6474 - val_loss: 0.5455\n",
            "Epoch 91/150\n",
            "10/10 [==============================] - 0s 8ms/step - loss: 0.6468 - val_loss: 0.5452\n",
            "Epoch 92/150\n",
            "10/10 [==============================] - 0s 7ms/step - loss: 0.6462 - val_loss: 0.5450\n",
            "Epoch 93/150\n",
            "10/10 [==============================] - 0s 7ms/step - loss: 0.6456 - val_loss: 0.5449\n",
            "Epoch 94/150\n",
            "10/10 [==============================] - 0s 8ms/step - loss: 0.6450 - val_loss: 0.5446\n",
            "Epoch 95/150\n",
            "10/10 [==============================] - 0s 8ms/step - loss: 0.6445 - val_loss: 0.5444\n",
            "Epoch 96/150\n",
            "10/10 [==============================] - 0s 7ms/step - loss: 0.6440 - val_loss: 0.5442\n",
            "Epoch 97/150\n",
            "10/10 [==============================] - 0s 8ms/step - loss: 0.6436 - val_loss: 0.5441\n",
            "Epoch 98/150\n",
            "10/10 [==============================] - 0s 7ms/step - loss: 0.6431 - val_loss: 0.5440\n",
            "Epoch 99/150\n",
            "10/10 [==============================] - 0s 6ms/step - loss: 0.6426 - val_loss: 0.5437\n",
            "Epoch 100/150\n",
            "10/10 [==============================] - 0s 7ms/step - loss: 0.6421 - val_loss: 0.5433\n",
            "Epoch 101/150\n",
            "10/10 [==============================] - 0s 7ms/step - loss: 0.6416 - val_loss: 0.5434\n",
            "Epoch 102/150\n",
            "10/10 [==============================] - 0s 7ms/step - loss: 0.6412 - val_loss: 0.5432\n",
            "Epoch 103/150\n",
            "10/10 [==============================] - 0s 8ms/step - loss: 0.6408 - val_loss: 0.5433\n",
            "Epoch 104/150\n",
            "10/10 [==============================] - 0s 8ms/step - loss: 0.6404 - val_loss: 0.5431\n",
            "Epoch 105/150\n",
            "10/10 [==============================] - 0s 6ms/step - loss: 0.6399 - val_loss: 0.5430\n",
            "Epoch 106/150\n",
            "10/10 [==============================] - 0s 8ms/step - loss: 0.6396 - val_loss: 0.5429\n",
            "Epoch 107/150\n",
            "10/10 [==============================] - 0s 7ms/step - loss: 0.6391 - val_loss: 0.5430\n",
            "Epoch 108/150\n",
            "10/10 [==============================] - 0s 7ms/step - loss: 0.6388 - val_loss: 0.5426\n",
            "Epoch 109/150\n",
            "10/10 [==============================] - 0s 8ms/step - loss: 0.6383 - val_loss: 0.5426\n",
            "Epoch 110/150\n",
            "10/10 [==============================] - 0s 7ms/step - loss: 0.6379 - val_loss: 0.5426\n",
            "Epoch 111/150\n",
            "10/10 [==============================] - 0s 8ms/step - loss: 0.6374 - val_loss: 0.5424\n",
            "Epoch 112/150\n",
            "10/10 [==============================] - 0s 6ms/step - loss: 0.6371 - val_loss: 0.5426\n",
            "Epoch 113/150\n",
            "10/10 [==============================] - 0s 7ms/step - loss: 0.6366 - val_loss: 0.5422\n",
            "Epoch 114/150\n",
            "10/10 [==============================] - 0s 8ms/step - loss: 0.6362 - val_loss: 0.5419\n",
            "Epoch 115/150\n",
            "10/10 [==============================] - 0s 6ms/step - loss: 0.6357 - val_loss: 0.5421\n",
            "Epoch 116/150\n",
            "10/10 [==============================] - 0s 8ms/step - loss: 0.6353 - val_loss: 0.5418\n",
            "Epoch 117/150\n",
            "10/10 [==============================] - 0s 7ms/step - loss: 0.6348 - val_loss: 0.5416\n",
            "Epoch 118/150\n",
            "10/10 [==============================] - 0s 7ms/step - loss: 0.6343 - val_loss: 0.5416\n",
            "Epoch 119/150\n",
            "10/10 [==============================] - 0s 7ms/step - loss: 0.6338 - val_loss: 0.5411\n",
            "Epoch 120/150\n",
            "10/10 [==============================] - 0s 8ms/step - loss: 0.6333 - val_loss: 0.5410\n",
            "Epoch 121/150\n",
            "10/10 [==============================] - 0s 9ms/step - loss: 0.6328 - val_loss: 0.5409\n",
            "Epoch 122/150\n",
            "10/10 [==============================] - 0s 8ms/step - loss: 0.6323 - val_loss: 0.5407\n",
            "Epoch 123/150\n",
            "10/10 [==============================] - 0s 7ms/step - loss: 0.6317 - val_loss: 0.5403\n",
            "Epoch 124/150\n",
            "10/10 [==============================] - 0s 8ms/step - loss: 0.6312 - val_loss: 0.5402\n",
            "Epoch 125/150\n",
            "10/10 [==============================] - 0s 6ms/step - loss: 0.6307 - val_loss: 0.5399\n",
            "Epoch 126/150\n",
            "10/10 [==============================] - 0s 8ms/step - loss: 0.6302 - val_loss: 0.5396\n",
            "Epoch 127/150\n",
            "10/10 [==============================] - 0s 6ms/step - loss: 0.6297 - val_loss: 0.5395\n",
            "Epoch 128/150\n",
            "10/10 [==============================] - 0s 6ms/step - loss: 0.6291 - val_loss: 0.5392\n",
            "Epoch 129/150\n",
            "10/10 [==============================] - 0s 8ms/step - loss: 0.6285 - val_loss: 0.5390\n",
            "Epoch 130/150\n",
            "10/10 [==============================] - 0s 6ms/step - loss: 0.6281 - val_loss: 0.5387\n",
            "Epoch 131/150\n",
            "10/10 [==============================] - 0s 6ms/step - loss: 0.6275 - val_loss: 0.5387\n",
            "Epoch 132/150\n",
            "10/10 [==============================] - 0s 8ms/step - loss: 0.6270 - val_loss: 0.5385\n",
            "Epoch 133/150\n",
            "10/10 [==============================] - 0s 8ms/step - loss: 0.6265 - val_loss: 0.5381\n",
            "Epoch 134/150\n",
            "10/10 [==============================] - 0s 8ms/step - loss: 0.6260 - val_loss: 0.5378\n",
            "Epoch 135/150\n",
            "10/10 [==============================] - 0s 7ms/step - loss: 0.6254 - val_loss: 0.5376\n",
            "Epoch 136/150\n",
            "10/10 [==============================] - 0s 7ms/step - loss: 0.6249 - val_loss: 0.5374\n",
            "Epoch 137/150\n",
            "10/10 [==============================] - 0s 8ms/step - loss: 0.6243 - val_loss: 0.5372\n",
            "Epoch 138/150\n",
            "10/10 [==============================] - 0s 7ms/step - loss: 0.6238 - val_loss: 0.5372\n",
            "Epoch 139/150\n",
            "10/10 [==============================] - 0s 7ms/step - loss: 0.6233 - val_loss: 0.5368\n",
            "Epoch 140/150\n",
            "10/10 [==============================] - 0s 8ms/step - loss: 0.6228 - val_loss: 0.5368\n",
            "Epoch 141/150\n",
            "10/10 [==============================] - 0s 8ms/step - loss: 0.6223 - val_loss: 0.5367\n",
            "Epoch 142/150\n",
            "10/10 [==============================] - 0s 8ms/step - loss: 0.6218 - val_loss: 0.5365\n",
            "Epoch 143/150\n",
            "10/10 [==============================] - 0s 6ms/step - loss: 0.6214 - val_loss: 0.5364\n",
            "Epoch 144/150\n",
            "10/10 [==============================] - 0s 8ms/step - loss: 0.6209 - val_loss: 0.5364\n",
            "Epoch 145/150\n",
            "10/10 [==============================] - 0s 8ms/step - loss: 0.6205 - val_loss: 0.5362\n",
            "Epoch 146/150\n",
            "10/10 [==============================] - 0s 8ms/step - loss: 0.6201 - val_loss: 0.5361\n",
            "Epoch 147/150\n",
            "10/10 [==============================] - 0s 8ms/step - loss: 0.6196 - val_loss: 0.5358\n",
            "Epoch 148/150\n",
            "10/10 [==============================] - 0s 7ms/step - loss: 0.6191 - val_loss: 0.5360\n",
            "Epoch 149/150\n",
            "10/10 [==============================] - 0s 8ms/step - loss: 0.6187 - val_loss: 0.5358\n",
            "Epoch 150/150\n",
            "10/10 [==============================] - 0s 8ms/step - loss: 0.6184 - val_loss: 0.5358\n"
          ]
        }
      ]
    },
    {
      "cell_type": "markdown",
      "source": [
        "**Plotting Training and Validation Loss of the model over epochs**"
      ],
      "metadata": {
        "id": "wNQrkQQAYmmS"
      }
    },
    {
      "cell_type": "code",
      "source": [
        "import matplotlib.pyplot as plt\n",
        "\n",
        "plt.plot(history.history['loss'], label='Training Loss')\n",
        "plt.plot(history.history['val_loss'], label='Validation Loss')\n",
        "plt.title('Model Training and Validation Loss')\n",
        "plt.ylabel('Loss')\n",
        "plt.xlabel('Epoch')\n",
        "plt.legend()\n",
        "plt.show()"
      ],
      "metadata": {
        "colab": {
          "base_uri": "https://localhost:8080/",
          "height": 472
        },
        "id": "mGchfKMJYsF3",
        "outputId": "eb3d30d6-f99b-422c-dcc7-5680b5ae023b"
      },
      "execution_count": null,
      "outputs": [
        {
          "output_type": "display_data",
          "data": {
            "text/plain": [
              "<Figure size 640x480 with 1 Axes>"
            ],
            "image/png": "[encoded data removed]"
          },
          "metadata": {}
        }
      ]
    },
    {
      "cell_type": "markdown",
      "source": [
        "**Making predictions (recommendations)**\n",
        "\n"
      ],
      "metadata": {
        "id": "VpkJ8vq3XlLT"
      }
    },
    {
      "cell_type": "code",
      "source": [
        "user_id = 1\n",
        "user_ratings = train_data[user_id - 1]\n",
        "predicted_ratings = rbm.predict(np.array([user_ratings]))\n",
        "\n",
        "num_recommendations = 5\n",
        "recommended_movie_indices = np.argsort(predicted_ratings[0])[::-1][:num_recommendations]\n",
        "\n",
        "print(\"Top 5 recommended movies for User\", user_id)\n",
        "for i, index in enumerate(recommended_movie_indices):\n",
        "    movie_title = movies_data[index][1]\n",
        "    print(f\"{i + 1}. {movie_title}\")"
      ],
      "metadata": {
        "colab": {
          "base_uri": "https://localhost:8080/"
        },
        "id": "xjw_rY7BXo_A",
        "outputId": "efddf47a-c9da-454e-f297-899de44b3c08"
      },
      "execution_count": null,
      "outputs": [
        {
          "output_type": "stream",
          "name": "stdout",
          "text": [
            "1/1 [==============================] - 0s 104ms/step\n",
            "Top 5 recommended movies for User 1\n",
            "1. Godfather, The (1972)\n",
            "2. Twelve Monkeys (1995)\n",
            "3. Pulp Fiction (1994)\n",
            "4. Independence Day (ID4) (1996)\n",
            "5. Toy Story (1995)\n"
          ]
        }
      ]
    }
  ]
}